{
 "cells": [
  {
   "cell_type": "markdown",
   "metadata": {},
   "source": [
    "## 创建一个栈数据结构Stack，先进后出结构\n",
    "\n",
    "1. 包含一个数据元素list，存储数据\n",
    "2. 包含若干操作：\n",
    "    1. push(item)，顶部添加元素\n",
    "    2. pop()，顶部弹出元素\n",
    "    3. peek()，查看顶部元素\n",
    "    4. size()，栈中元素的个数\n",
    "    5. isEmpty()，元素列表为空"
   ]
  },
  {
   "cell_type": "code",
   "execution_count": 1,
   "metadata": {
    "collapsed": false
   },
   "outputs": [
    {
     "name": "stdout",
     "output_type": "stream",
     "text": [
      "True\n",
      "4\n",
      "4\n",
      "3\n",
      "1\n"
     ]
    }
   ],
   "source": [
    "class Stack():\n",
    "    def __init__(self, init_list=[]):\n",
    "        self.list = init_list\n",
    "        \n",
    "    def push(self,item):\n",
    "        return self.list.append(item)\n",
    "        \n",
    "    def pop(self):\n",
    "        return self.list.pop()\n",
    "    \n",
    "    def peek(self):\n",
    "        return self.list[-1]\n",
    "    \n",
    "    def size(self):\n",
    "        return len(self.list)\n",
    "    \n",
    "    def isEmpty(self):\n",
    "        if self.size()==0:\n",
    "            return True\n",
    "        else:\n",
    "            return False\n",
    "\n",
    "if __name__=='__main__':\n",
    "    s = Stack()\n",
    "    print(s.isEmpty())\n",
    "    s.push(3)\n",
    "    s.push(4)\n",
    "    print(s.peek())\n",
    "    print(s.pop())\n",
    "    print(s.peek())\n",
    "    print(s.size())\n",
    "        "
   ]
  },
  {
   "cell_type": "code",
   "execution_count": 2,
   "metadata": {
    "collapsed": false
   },
   "outputs": [
    {
     "name": "stdout",
     "output_type": "stream",
     "text": [
      "1\n"
     ]
    }
   ],
   "source": [
    "s = Stack()\n",
    "print(s.size())"
   ]
  },
  {
   "cell_type": "markdown",
   "metadata": {},
   "source": [
    "## 利用Stack结构，检测圆括号序列的完整性\n",
    "\n",
    "1. \"(((()))\""
   ]
  },
  {
   "cell_type": "code",
   "execution_count": 6,
   "metadata": {
    "collapsed": false
   },
   "outputs": [
    {
     "name": "stdout",
     "output_type": "stream",
     "text": [
      "[]\n",
      "True\n"
     ]
    }
   ],
   "source": [
    "from IPython.core.debugger import Tracer\n",
    "\n",
    "class Stack():\n",
    "    def __init__(self, init_list=[]):\n",
    "        self.list = init_list\n",
    "        \n",
    "    def push(self,item):\n",
    "        return self.list.append(item)\n",
    "        \n",
    "    def pop(self):\n",
    "        return self.list.pop()\n",
    "    \n",
    "    def peek(self):\n",
    "        return self.list[-1]\n",
    "    \n",
    "    def size(self):\n",
    "        return len(self.list)\n",
    "    \n",
    "    def isEmpty(self):\n",
    "        if self.size()==0:\n",
    "            return True\n",
    "        else:\n",
    "            return False\n",
    "        \n",
    "def check_balance(parentheses_string):\n",
    "    balance = True\n",
    "    string_check = Stack()\n",
    "    for item in parentheses_string:\n",
    "        if item == '(':\n",
    "            string_check.push('(')\n",
    "        else:\n",
    "            if string_check.isEmpty():\n",
    "                balance = False\n",
    "                break\n",
    "            else:\n",
    "                string_check.pop()\n",
    "    print(string_check.list)\n",
    "    if balance and string_check.isEmpty():\n",
    "        check_result = True\n",
    "    else:\n",
    "        check_result = False\n",
    "    return check_result\n",
    "\n",
    "if __name__=='__main__':\n",
    "    print(check_balance('(((())))'))"
   ]
  },
  {
   "cell_type": "markdown",
   "metadata": {
    "collapsed": true
   },
   "source": [
    "## 利用stack结构，检测括号的完整性\n",
    "1. ‘[{(’"
   ]
  },
  {
   "cell_type": "code",
   "execution_count": 5,
   "metadata": {
    "collapsed": false
   },
   "outputs": [
    {
     "name": "stdout",
     "output_type": "stream",
     "text": [
      "['[', '{']\n",
      "False\n"
     ]
    }
   ],
   "source": [
    "class Stack():\n",
    "    def __init__(self, init_list=[]):\n",
    "        self.list = init_list\n",
    "        \n",
    "    def push(self,item):\n",
    "        return self.list.append(item)\n",
    "        \n",
    "    def pop(self):\n",
    "        return self.list.pop()\n",
    "    \n",
    "    def peek(self):\n",
    "        return self.list[-1]\n",
    "    \n",
    "    def size(self):\n",
    "        return len(self.list)\n",
    "    \n",
    "    def isEmpty(self):\n",
    "        if self.size()==0:\n",
    "            return True\n",
    "        else:\n",
    "            return False\n",
    "        \n",
    "match_dict = {')':'(','}':'{',']':'['}\n",
    "def check_par_balance(check_string):\n",
    "    balance = True\n",
    "    string_check = Stack()\n",
    "    for item in check_string:\n",
    "        if item in '([{':\n",
    "            string_check.push(item)\n",
    "        else:\n",
    "            if string_check.isEmpty():\n",
    "                balance = False\n",
    "                break\n",
    "            else:\n",
    "                pre_item = string_check.pop()\n",
    "                if match_dict[item] != pre_item:\n",
    "                    balance = False\n",
    "                    break\n",
    "    print(string_check.list)\n",
    "    if balance and string_check.isEmpty():\n",
    "        check_result = True\n",
    "    else:\n",
    "        check_result = False\n",
    "    return check_result\n",
    "\n",
    "if __name__=='__main__':\n",
    "    print(check_par_balance('[{(})]'))"
   ]
  },
  {
   "cell_type": "markdown",
   "metadata": {},
   "source": [
    "## 利用stack结构，实现不同进制的转换\n",
    "1. 二、八、十、十六"
   ]
  },
  {
   "cell_type": "code",
   "execution_count": 4,
   "metadata": {
    "collapsed": false
   },
   "outputs": [
    {
     "name": "stdout",
     "output_type": "stream",
     "text": [
      "[0, 3]\n"
     ]
    }
   ],
   "source": [
    "class Stack():\n",
    "    def __init__(self, init_list=[]):\n",
    "        self.list = init_list\n",
    "        \n",
    "    def push(self,item):\n",
    "        return self.list.append(item)\n",
    "        \n",
    "    def pop(self):\n",
    "        return self.list.pop()\n",
    "    \n",
    "    def peek(self):\n",
    "        return self.list[-1]\n",
    "    \n",
    "    def size(self):\n",
    "        return len(self.list)\n",
    "    \n",
    "    def isEmpty(self):\n",
    "        if self.size()==0:\n",
    "            return True\n",
    "        else:\n",
    "            return False\n",
    "        \n",
    "def transfer_dec2any(tar_sc, src_num):\n",
    "    mediate_str = Stack()\n",
    "    stop_flg = False\n",
    "    while not stop_flg:\n",
    "        quotient = src_num/tar_sc\n",
    "        remainer = src_num%tar_sc\n",
    "        mediate_str.push(remainer)\n",
    "        if quotient == 0:\n",
    "            stop_flg = True\n",
    "        else:\n",
    "            src_num = quotient\n",
    "    tar_num = mediate_str.list\n",
    "    return tar_num\n",
    "    \n",
    "    \n",
    "if __name__=='__main__':\n",
    "    print(transfer_dec2any(8,24))"
   ]
  },
  {
   "cell_type": "markdown",
   "metadata": {},
   "source": [
    "## 利用stack结构，实现插入表达式到前缀表达式或者后缀表达式的转换\n",
    "1. A * B + C * D * E => A B * C D * E * +  插入表达式到后缀表达式\n",
    "2. A * B + C * D * E => + * A B * * C D E \n",
    "3. 插入表达式到后缀表达式算法策略：\n",
    "    1. 定义一个stack数据结构存储操作符\n",
    "    2. 定义一个输出list\n",
    "    3. 从左至有读取字符序列\n",
    "        - 如果是操作数，则存储到list中（因为后缀表达式中操作数位置不变）\n",
    "        - 如果是左括号，则压入到stack中\n",
    "        - 如果是右括号，则弹出stack字符，压入到list中，直至遇到左括号\n",
    "        - 如果是其他操作符，则将stack中优先级大于或者等于该操作符的其他操作符弹出，并加入到list中并将操作符压入到stack中\n",
    "        - 弹出stack中的操作符，直至为空"
   ]
  },
  {
   "cell_type": "markdown",
   "metadata": {},
   "source": [
    "## 利用stack结构，计算后缀表达式结果\n",
    "1. 将操作数压入到stack中\n",
    "2. 当遇到操作符时，弹出两个操作数做运算，并将结果压入到stack中"
   ]
  },
  {
   "cell_type": "code",
   "execution_count": null,
   "metadata": {
    "collapsed": true
   },
   "outputs": [],
   "source": []
  }
 ],
 "metadata": {
  "kernelspec": {
   "display_name": "Python 2",
   "language": "python",
   "name": "python2"
  },
  "language_info": {
   "codemirror_mode": {
    "name": "ipython",
    "version": 2
   },
   "file_extension": ".py",
   "mimetype": "text/x-python",
   "name": "python",
   "nbconvert_exporter": "python",
   "pygments_lexer": "ipython2",
   "version": "2.7.10"
  }
 },
 "nbformat": 4,
 "nbformat_minor": 1
}
