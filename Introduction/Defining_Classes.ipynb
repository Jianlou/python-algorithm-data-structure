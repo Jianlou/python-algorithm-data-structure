{
 "cells": [
  {
   "cell_type": "markdown",
   "metadata": {},
   "source": [
    "# Python面向对象编程，举例1：定义一个分数类Fraction\n",
    "\n",
    "\n",
    "## 1. 定义基本的结构"
   ]
  },
  {
   "cell_type": "code",
   "execution_count": 34,
   "metadata": {
    "collapsed": true
   },
   "outputs": [],
   "source": [
    "class Fraction:\n",
    "    def __init__(self, numerator, denominator):\n",
    "        # 数据：分子和分母\n",
    "        self.numerator = numerator\n",
    "        self.denominator = denominator\n",
    "    def show(self):\n",
    "        # 打印输出\n",
    "        print('%d / %d'%(self.numerator,self.denominator))\n",
    "    def __add__(self, add_frac):\n",
    "        # 分数加法\n",
    "        new_numerator = self.numerator*add_frac.denominator + add_frac.numerator*self.denominator\n",
    "        new_denominator = add_frac.denominator*self.denominator\n",
    "        gcd_num = gcd(new_numerator,new_denominator)\n",
    "        return Fraction(new_numerator/gcd_num, new_denominator/gcd_num)\n",
    "def gcd(a,b):\n",
    "    while a%b != 0:\n",
    "        old_a = a\n",
    "        old_b = b\n",
    "        a = old_b\n",
    "        b = old_a%old_b\n",
    "    return b\n"
   ]
  },
  {
   "cell_type": "markdown",
   "metadata": {},
   "source": [
    "## 2. 定义打印输出"
   ]
  },
  {
   "cell_type": "code",
   "execution_count": 35,
   "metadata": {
    "collapsed": false
   },
   "outputs": [
    {
     "name": "stdout",
     "output_type": "stream",
     "text": [
      "1 / 2\n"
     ]
    }
   ],
   "source": [
    "a = Fraction(1,2)\n",
    "a.show()"
   ]
  },
  {
   "cell_type": "markdown",
   "metadata": {},
   "source": [
    "## 3. 定义分数加法"
   ]
  },
  {
   "cell_type": "code",
   "execution_count": 36,
   "metadata": {
    "collapsed": false
   },
   "outputs": [
    {
     "name": "stdout",
     "output_type": "stream",
     "text": [
      "2 / 3\n"
     ]
    }
   ],
   "source": [
    "b = Fraction(1,6)\n",
    "c = a+b\n",
    "c.show()"
   ]
  },
  {
   "cell_type": "markdown",
   "metadata": {},
   "source": [
    "## 4. 分子分母约分，同时除以最大公约数GCD(greatest common divisor)\n",
    "\n",
    "1. Euclid's Alg\n",
    "    求a,b的公约数：基本原理是如果a可以被b整除，则公约数b；否则gcd(a,b)==gcd(b,a mod b)\n"
   ]
  },
  {
   "cell_type": "code",
   "execution_count": 37,
   "metadata": {
    "collapsed": false
   },
   "outputs": [
    {
     "name": "stdout",
     "output_type": "stream",
     "text": [
      "4\n"
     ]
    }
   ],
   "source": [
    "def gcd(a,b):\n",
    "    ## 欧几里得算法求最大公约数\n",
    "    while a%b != 0:\n",
    "        old_a = a\n",
    "        old_b = b\n",
    "        a = old_b\n",
    "        b = old_a%old_b\n",
    "    return b\n",
    "\n",
    "print(gcd(12,4))\n"
   ]
  },
  {
   "cell_type": "markdown",
   "metadata": {},
   "source": [
    "2. 求n个数的最大公约数"
   ]
  },
  {
   "cell_type": "code",
   "execution_count": 38,
   "metadata": {
    "collapsed": false
   },
   "outputs": [
    {
     "data": {
      "text/plain": [
       "2"
      ]
     },
     "execution_count": 38,
     "metadata": {},
     "output_type": "execute_result"
    }
   ],
   "source": [
    "def gcd(num_list):\n",
    "    count = len(num_list)\n",
    "    a = num_list[0]\n",
    "    for i in xrange(1, count):\n",
    "        b = num_list[i]\n",
    "        while a%b != 0:\n",
    "            old_a = a\n",
    "            old_b = b\n",
    "            a = old_b\n",
    "            b = old_a%old_b\n",
    "        a = b\n",
    "    return a\n",
    "\n",
    "gcd([4,8,12,18])"
   ]
  },
  {
   "cell_type": "markdown",
   "metadata": {},
   "source": [
    "3. 求n个数的最小公倍数"
   ]
  },
  {
   "cell_type": "code",
   "execution_count": 47,
   "metadata": {
    "collapsed": false
   },
   "outputs": [
    {
     "data": {
      "text/plain": [
       "2448"
      ]
     },
     "execution_count": 47,
     "metadata": {},
     "output_type": "execute_result"
    }
   ],
   "source": [
    "def lcm(num_list):\n",
    "    count = len(num_list)\n",
    "    a = num_list[0]\n",
    "    for i in xrange(1,count):\n",
    "        b = num_list[i]\n",
    "        if a > b:\n",
    "            greater = a\n",
    "        else:\n",
    "            greater = b\n",
    "        count_num = 1\n",
    "        while greater%a != 0 or greater%b !=0:\n",
    "            count_num = count_num + 1\n",
    "            greater = greater*count_num\n",
    "        a = greater\n",
    "    return a\n",
    "\n",
    "lcm([12,3,48,102])\n",
    "    "
   ]
  },
  {
   "cell_type": "markdown",
   "metadata": {},
   "source": [
    "# Python面向对象编程, 继承，"
   ]
  }
 ],
 "metadata": {
  "kernelspec": {
   "display_name": "Python 2",
   "language": "python",
   "name": "python2"
  },
  "language_info": {
   "codemirror_mode": {
    "name": "ipython",
    "version": 2
   },
   "file_extension": ".py",
   "mimetype": "text/x-python",
   "name": "python",
   "nbconvert_exporter": "python",
   "pygments_lexer": "ipython2",
   "version": "2.7.10"
  }
 },
 "nbformat": 4,
 "nbformat_minor": 2
}
